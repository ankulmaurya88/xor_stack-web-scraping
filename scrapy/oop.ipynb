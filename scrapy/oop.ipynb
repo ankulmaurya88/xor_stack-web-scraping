{
 "cells": [
  {
   "cell_type": "code",
   "execution_count": 4,
   "id": "56198668",
   "metadata": {},
   "outputs": [
    {
     "name": "stdout",
     "output_type": "stream",
     "text": [
      "before decorator \n",
      "ankul kumar Maurya\n",
      "after decorator\n"
     ]
    }
   ],
   "source": [
    "def decorator (fun):\n",
    "    def wapper (*args,**kwargs):\n",
    "        print(\"before decorator \")\n",
    "        result = fun(*args,**kwargs)\n",
    "        print(\"after decorator\")\n",
    "        return result\n",
    "    return wapper\n",
    "\n",
    "@decorator\n",
    "def hello(data):\n",
    "    print(\"ankul kumar\",data)\n",
    "da=\"Maurya\"\n",
    "hello(da)"
   ]
  },
  {
   "cell_type": "code",
   "execution_count": 18,
   "id": "a21843b9",
   "metadata": {},
   "outputs": [
    {
     "name": "stdout",
     "output_type": "stream",
     "text": [
      "4\n",
      "5\n",
      "5\n",
      "7\n",
      "9\n"
     ]
    }
   ],
   "source": [
    "class MyIterator:\n",
    "    def __init__(self,collection):\n",
    "        self._collection =collection\n",
    "        self._index=0\n",
    "\n",
    "    def __iter__(self):\n",
    "        return self\n",
    "    \n",
    "    def __next__(self):\n",
    "        \n",
    "        if self._index >= len(self._collection):\n",
    "            raise StopIteration\n",
    "        \n",
    "        item =self._collection[self._index]\n",
    "\n",
    "        self._index +=1\n",
    "\n",
    "        return item\n",
    "\n",
    "\n",
    "li1=[4,5,5,7,9]\n",
    "# __iter__()\n",
    "# __next__()\n",
    "it = MyIterator(li1)\n",
    "# it=iter(li1)\n",
    "# print(next(it))\n",
    "# print(next(it))\n",
    "# print(next(it))\n",
    "# print(next(it))\n",
    "# print(next(it))\n",
    "\n",
    "for i in it:\n",
    "    print(i)"
   ]
  },
  {
   "cell_type": "code",
   "execution_count": null,
   "id": "2bde7709",
   "metadata": {},
   "outputs": [],
   "source": []
  },
  {
   "cell_type": "code",
   "execution_count": null,
   "id": "ab633670",
   "metadata": {},
   "outputs": [],
   "source": []
  }
 ],
 "metadata": {
  "kernelspec": {
   "display_name": "venv",
   "language": "python",
   "name": "python3"
  },
  "language_info": {
   "codemirror_mode": {
    "name": "ipython",
    "version": 3
   },
   "file_extension": ".py",
   "mimetype": "text/x-python",
   "name": "python",
   "nbconvert_exporter": "python",
   "pygments_lexer": "ipython3",
   "version": "3.8.10"
  }
 },
 "nbformat": 4,
 "nbformat_minor": 5
}
