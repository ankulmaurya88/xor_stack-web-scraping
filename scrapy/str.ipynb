{
 "cells": [
  {
   "cell_type": "code",
   "execution_count": 5,
   "id": "e383b71a",
   "metadata": {},
   "outputs": [
    {
     "name": "stdout",
     "output_type": "stream",
     "text": [
      "['Ram', 'is', 'Good', 'boy']\n"
     ]
    }
   ],
   "source": [
    "pram=\"Ram is Good boy\"\n",
    "output='boy Good is Ram'\n",
    "print(pram.split(\" \"))"
   ]
  },
  {
   "cell_type": "code",
   "execution_count": 17,
   "id": "81d0b584",
   "metadata": {},
   "outputs": [
    {
     "data": {
      "text/plain": [
       "'boy Good is Ram'"
      ]
     },
     "execution_count": 17,
     "metadata": {},
     "output_type": "execute_result"
    }
   ],
   "source": [
    "def reverse(word1 ,start,end):\n",
    "    while start < end :\n",
    "        word1[start],word1[end]=word1[end],word1[start]\n",
    "        start+=1\n",
    "        end-=1\n",
    "def reverse_string(s):\n",
    "    word=list(s)\n",
    "    n=len(word)\n",
    "    b=0\n",
    "    for e in range (n):\n",
    "        if word[e] ==\" \":\n",
    "            reverse(word,b,e-1)\n",
    "            b=e+1\n",
    "    reverse(word,b,n-1) \n",
    "\n",
    "    reverse(word,0,n-1)\n",
    "    res=\"\".join(word)\n",
    "    return res\n",
    "\n",
    "\n",
    "reverse_string(pram)\n",
    "\n"
   ]
  },
  {
   "cell_type": "code",
   "execution_count": 31,
   "id": "9740b068",
   "metadata": {},
   "outputs": [
    {
     "data": {
      "text/plain": [
       "['b', 'bb', 'b', 'c', 'd', 'b', 'bb', 'b']"
      ]
     },
     "execution_count": 31,
     "metadata": {},
     "output_type": "execute_result"
    }
   ],
   "source": [
    "# find the substring longest substring plondrome of that ? \n",
    "\n",
    "def check_pallidrome(sub):\n",
    "    n=len(sub)\n",
    "\n",
    "    for i in range (n//2):\n",
    "        if sub[i] != sub[n-i-1]:\n",
    "            return False\n",
    "    return True\n",
    "\n",
    "\n",
    "\n",
    "def find_all_subrting(pram):\n",
    "    res=[]\n",
    "    n=len(pram)\n",
    "    if n==1:\n",
    "        return pram\n",
    "    for start in range (n):\n",
    "        for end in range(start+1, n+1):\n",
    "            # res.append(pram[start:end])\n",
    "            if check_pallidrome(pram[start:end]):\n",
    "                res.append(pram[start:end])\n",
    "    return res \n",
    "\n",
    "pram='forgeeksskeegfor'\n",
    "a='bbcdbb'\n",
    "\n",
    "find_all_subrting(a)"
   ]
  },
  {
   "cell_type": "code",
   "execution_count": null,
   "id": "e4deadd9",
   "metadata": {},
   "outputs": [],
   "source": []
  },
  {
   "cell_type": "markdown",
   "id": "9093c6c2",
   "metadata": {},
   "source": [
    "'''\n",
    "5. Check if two strings are a rotation of each other\n",
    "Problem statement: Given two strings, s1 and s2, write a function to check if s2 is a rotation of s1. For example, \"waterbottle\" is a rotation of \"erbottlewat\". \n",
    "Test cases:\n",
    "Input: s1 = \"abcde\", s2 = \"cdeab\"\n",
    "Output: true\n",
    "Input: s1 = \"abc\", s2 = \"acb\"\n",
    "Output: false\n",
    "Input: s1 = \"hello\", s2 = \"ohell\"\n",
    "\n",
    "'''"
   ]
  },
  {
   "cell_type": "markdown",
   "id": "d460914f",
   "metadata": {},
   "source": [
    "'''\n",
    "2. Valid Parentheses\n",
    "Problem statement: Given a string s containing just the characters '(', ')', '{', '}', '[' and ']', determine if the input string is valid. An input string is valid if:\n",
    "Open brackets must be closed by the same type of brackets.\n",
    "Open brackets must be closed in the correct order.\n",
    "Every close bracket has a corresponding open bracket of the same type. \n",
    "Test cases:\n",
    "Input: \"()\"\n",
    "Output: true\n",
    "Input: \"()[]{}\"\n",
    "Output: true\n",
    "Input: \"(]\"\n",
    "Output: false\n",
    "Input: \"([)]\"\n",
    "Output: false\n",
    "Input: \"{[]}\"\n",
    "Output: true\n",
    "\n",
    "'''"
   ]
  },
  {
   "cell_type": "code",
   "execution_count": 11,
   "id": "e0eaab65",
   "metadata": {},
   "outputs": [
    {
     "name": "stdout",
     "output_type": "stream",
     "text": [
      "['{', '[', ']', '}']\n",
      "\n",
      "}\n",
      "]\n",
      "[\n",
      "{\n"
     ]
    }
   ],
   "source": [
    "\n",
    "def addvalue(pram):\n",
    "    mystack= []\n",
    "    for i in pram:\n",
    "        mystack.append(i)\n",
    "    return mystack\n",
    "\n",
    "\n",
    "s1 = \"{[]}\"\n",
    "result=addvalue(s1)  \n",
    "print(result)\n",
    "print()\n",
    "for i in range (len(result)):\n",
    "    res=result.pop()\n",
    "    print(res)\n",
    "\n",
    "# Test cases:\n",
    "# Input: \"()\"\n",
    "# Output: true\n",
    "# Input: \"()[]{}\"\n",
    "# Output: true\n",
    "# Input: \"(]\"\n",
    "# Output: false\n",
    "# Input: \"([)]\"\n",
    "# Output: false\n",
    "# Input: \"{[]}\"\n",
    "# Output: true"
   ]
  },
  {
   "cell_type": "code",
   "execution_count": null,
   "id": "574297e6",
   "metadata": {},
   "outputs": [],
   "source": [
    "'''\n",
    "1. Longest Substring Without Repeating Characters\n",
    "Problem statement: Given a string s, find the length of the longest substring without repeating characters. \n",
    "Test cases:\n",
    "Input: \"abcabcbb\"\n",
    "Output: 3\n",
    "Explanation: The longest substring without repeating characters is \"abc\", with a length of 3.\n",
    "Input: \"bbbbb\"\n",
    "Output: 1\n",
    "Explanation: The longest substring is \"b\", with a length of 1.\n",
    "Input: \"pwwkew\"\n",
    "Output: 3\n",
    "Explanation: The longest substring is \"wke\", with a length of 3. Note that \"pwke\" is a subsequence, but \"wke\" is a contiguous substring.\n",
    "Input: \"dvdf\"\n",
    "Output: 3\n",
    "Explanation: The longest substring is \"vdf\", with a length of 3. \n",
    "\n",
    "'''"
   ]
  },
  {
   "cell_type": "markdown",
   "id": "ec5b401a",
   "metadata": {},
   "source": [
    "'''\n",
    "4. Longest Common Prefix\n",
    "Problem statement: Write a function to find the longest common prefix string amongst an array of strings. If there is no common prefix, return an empty string \"\". \n",
    "Test cases:\n",
    "Input: [\"flower\", \"flow\", \"flight\"]\n",
    "Output: \"fl\"\n",
    "Input: [\"dog\", \"racecar\", \"car\"]\n",
    "Output: \"\"\n",
    "Explanation: There is no common prefix among the input strings.\n",
    "Input: [\"apple\", \"apply\", \"app\"]\n",
    "Output: \"app\" \n",
    "\n",
    "'''"
   ]
  },
  {
   "cell_type": "code",
   "execution_count": null,
   "id": "df8b1e7d",
   "metadata": {},
   "outputs": [],
   "source": []
  }
 ],
 "metadata": {
  "kernelspec": {
   "display_name": "Python 3",
   "language": "python",
   "name": "python3"
  },
  "language_info": {
   "codemirror_mode": {
    "name": "ipython",
    "version": 3
   },
   "file_extension": ".py",
   "mimetype": "text/x-python",
   "name": "python",
   "nbconvert_exporter": "python",
   "pygments_lexer": "ipython3",
   "version": "3.8.10"
  }
 },
 "nbformat": 4,
 "nbformat_minor": 5
}
