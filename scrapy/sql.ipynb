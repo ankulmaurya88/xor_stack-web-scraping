{
 "cells": [
  {
   "cell_type": "code",
   "execution_count": null,
   "id": "2e145e38",
   "metadata": {},
   "outputs": [],
   "source": [
    "'''\n",
    "Find employees whose salary \n",
    "is greater than the salary of employee 'John'.\n",
    "'''"
   ]
  },
  {
   "cell_type": "code",
   "execution_count": null,
   "id": "19c009b2",
   "metadata": {},
   "outputs": [],
   "source": [
    "'''\n",
    "Subqueries\n",
    "\n",
    "Find employees whose salary is greater than the salary of \n",
    "employee 'John'.\n",
    "\n",
    "Get all products priced higher than the average price of \n",
    "their category.\n",
    "\n",
    "Find departments that have no employees \n",
    "(use NOT IN or NOT EXISTS).\n",
    "\n",
    "Show the second highest salary in the company\n",
    " (without using LIMIT/TOP).\n",
    "\n",
    "Find customers who placed orders on the same date as \n",
    "customer 'Alice'.\n",
    "\n",
    "'''"
   ]
  },
  {
   "cell_type": "code",
   "execution_count": null,
   "id": "81c3b4ff",
   "metadata": {},
   "outputs": [],
   "source": [
    "select name from employees \n",
    "where  salary > ( selcet salary from employees where name='John' ); "
   ]
  },
  {
   "cell_type": "code",
   "execution_count": null,
   "id": "675c9cdf",
   "metadata": {},
   "outputs": [],
   "source": [
    "'''\n",
    "Get all products priced higher \n",
    "than the average price of their category.\n",
    "'''"
   ]
  },
  {
   "cell_type": "code",
   "execution_count": null,
   "id": "75a757e7",
   "metadata": {},
   "outputs": [],
   "source": [
    "select name from product AS p\n",
    "where price > (select avg(price) from product  WEHER category =p.category)"
   ]
  },
  {
   "cell_type": "code",
   "execution_count": null,
   "id": "5ac8ae80",
   "metadata": {},
   "outputs": [],
   "source": [
    "SELECT\n",
    "  name\n",
    "FROM (\n",
    "  SELECT\n",
    "    name,\n",
    "    price,\n",
    "    category,\n",
    "    AVG(price) OVER (PARTITION BY category) AS avg_category_price\n",
    "  FROM\n",
    "    product\n",
    ") AS subquery\n",
    "WHERE\n",
    "  price > avg_category_price;"
   ]
  },
  {
   "cell_type": "code",
   "execution_count": null,
   "id": "a288e085",
   "metadata": {},
   "outputs": [],
   "source": [
    "'''\n",
    "Show the second highest salary in\n",
    "the company (without using LIMIT/TOP).\n",
    "\n",
    "'''\n",
    "select name ,rank (2) over (salary order by DESC) as salary_rank form \n",
    "employees "
   ]
  },
  {
   "cell_type": "code",
   "execution_count": null,
   "id": "583b108b",
   "metadata": {},
   "outputs": [],
   "source": [
    "select max(salary) from employees \n",
    "where salary < (select max(salary) from employees)"
   ]
  },
  {
   "cell_type": "code",
   "execution_count": null,
   "id": "0662f5bb",
   "metadata": {},
   "outputs": [],
   "source": [
    "'''\n",
    "Find customers who placed orders \n",
    "on the same date as customer 'Alice'.\n",
    "'''"
   ]
  },
  {
   "cell_type": "code",
   "execution_count": null,
   "id": "23c62cb4",
   "metadata": {},
   "outputs": [],
   "source": [
    "'''\n",
    "WITH Clause (CTEs)\n",
    "\n",
    "Use a CTE to calculate total sales per customer, then \n",
    "return only customers who spent more than $10,000.\n",
    "\n",
    "\n",
    "Write a CTE to calculate total sales per product, \n",
    "then select the top 5 products by revenue.\n",
    "\n",
    "Using a recursive CTE, generate a sequence of numbers \n",
    "from 1 to 100.\n",
    "\n",
    "Using CTE, find the employee hierarchy (manager → employee \n",
    "chain).\n",
    "\n",
    "With CTE, calculate monthly revenue and then compute a\n",
    " running total across months.\n",
    "\n",
    "Create a CTE to calculate each employee’s salary vs. \n",
    "department average salary.\n",
    "\n",
    "'''"
   ]
  },
  {
   "cell_type": "code",
   "execution_count": null,
   "id": "91266422",
   "metadata": {},
   "outputs": [],
   "source": []
  }
 ],
 "metadata": {
  "language_info": {
   "name": "python"
  }
 },
 "nbformat": 4,
 "nbformat_minor": 5
}
